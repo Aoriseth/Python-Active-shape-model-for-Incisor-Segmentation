{
 "cells": [
  {
   "cell_type": "code",
   "execution_count": 174,
   "metadata": {},
   "outputs": [],
   "source": [
    "import os\n",
    "import glob\n",
    "import cv2\n",
    "import matplotlib.pyplot as plt\n",
    "import numpy as np\n",
    "\n",
    "import math\n",
    "\n",
    "\n",
    "def get_range_of(i, pca):\n",
    "    eigenvalues = get_eigenvalues(pca)\n",
    "    bound = 3*math.sqrt(eigenvalues[i])\n",
    "    return bound\n",
    "\n",
    "def generate_model_point(b, pca):\n",
    "    eigenvectors = get_eigenvectors(pca)\n",
    "    P = eigenvectors.transpose(1,0)\n",
    "    #b = get_eigenvalues(pca)\n",
    "    xm = get_mean(pca)\n",
    "    \n",
    "    x =  np.dot(P,b)\n",
    "    return x + xm\n",
    "\n",
    "def transform(p, pose_param):\n",
    "    Txy, scale, rad = pose_param\n",
    "    rotation = np.array([[math.cos(rad), -math.sin(rad)],[ math.sin(rad), math.cos(rad)]])\n",
    "    return Txy + np.dot(s*rotation, p)\n",
    "\n",
    "def inv_transform(p, pose_param):\n",
    "    Txy, scale, rad = pose_param\n",
    "    rotation = np.array([[math.cos(rad), math.sin(rad)],[ -math.sin(rad), math.cos(rad)]])\n",
    "    return np.dot(rotation/s, p-Txy)\n",
    "\n",
    "def project_to_tangent_plane(y, pca):\n",
    "    xm = pca.mean_\n",
    "    return y / np.dot(y,xm)\n",
    "\n",
    "def update_model_param(y, pca):\n",
    "    xm = pca.mean_\n",
    "    PT = get_eigenvectors(pca)\n",
    "    return np.dot(PT, y - xm)\n",
    "\n",
    "\n",
    "#protocol 1\n",
    "def match_model_points(pca):\n",
    "    b = np.zeros(len(pca.components_)) \n",
    "    \n",
    "    while !converged:\n",
    "        \n",
    "        x = generate_model_point(b, pca)\n",
    "\n",
    "        pose_param = find_pose_param()\n",
    "\n",
    "        y = inv_transform(Y,pose_param)\n",
    "\n",
    "        y = project_to_tangent_plane(y, pca)\n",
    "\n",
    "        b = update_model_param(y, pca)\n",
    "\n",
    "\n",
    "        \n",
    "        \n",
    "\n"
   ]
  },
  {
   "cell_type": "code",
   "execution_count": 1,
   "metadata": {},
   "outputs": [
    {
     "ename": "SyntaxError",
     "evalue": "unexpected EOF while parsing (<ipython-input-1-5b0028f3251f>, line 2)",
     "output_type": "error",
     "traceback": [
      "\u001b[1;36m  File \u001b[1;32m\"<ipython-input-1-5b0028f3251f>\"\u001b[1;36m, line \u001b[1;32m2\u001b[0m\n\u001b[1;33m    #main\u001b[0m\n\u001b[1;37m         ^\u001b[0m\n\u001b[1;31mSyntaxError\u001b[0m\u001b[1;31m:\u001b[0m unexpected EOF while parsing\n"
     ]
    }
   ],
   "source": [
    "if __name__ == \"__main__\":\n",
    "    #main\n"
   ]
  },
  {
   "cell_type": "code",
   "execution_count": null,
   "metadata": {},
   "outputs": [],
   "source": []
  }
 ],
 "metadata": {
  "kernelspec": {
   "display_name": "Python 3",
   "language": "python",
   "name": "python3"
  },
  "language_info": {
   "codemirror_mode": {
    "name": "ipython",
    "version": 3
   },
   "file_extension": ".py",
   "mimetype": "text/x-python",
   "name": "python",
   "nbconvert_exporter": "python",
   "pygments_lexer": "ipython3",
   "version": "3.6.3"
  }
 },
 "nbformat": 4,
 "nbformat_minor": 2
}

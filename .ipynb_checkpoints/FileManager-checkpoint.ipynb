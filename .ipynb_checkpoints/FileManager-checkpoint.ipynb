{
 "cells": [
  {
   "cell_type": "code",
   "execution_count": 3,
   "metadata": {},
   "outputs": [],
   "source": [
    "import os\n",
    "import glob\n",
    "import cv2\n",
    "import matplotlib.pyplot as plt\n",
    "import numpy as np\n",
    "\n",
    "def load_files(dir_images):\n",
    "    \n",
    "    inputList = []\n",
    "    \n",
    "    inputNames = glob.glob(dir_images)\n",
    "    \n",
    "    for inputName in inputNames:\n",
    "    \n",
    "        inputFile = cv2.imread(inputName, 0)\n",
    "        inputList.append(inputFile)\n",
    "\n",
    "    return inputList\n",
    "\n",
    "\n",
    "def load_landmarks():\n",
    "    \n",
    "    dir_landmarks = \"_Data\\Landmarks\\original\\*.txt\"\n",
    "    inputNames = glob.glob(dir_landmarks)\n",
    "    \n",
    "    inputList = np.empty([len(inputNames), 40, 2])\n",
    "    \n",
    "    for i, inputName in enumerate(inputNames):\n",
    "    \n",
    "        with open(inputName) as f:\n",
    "            content = f.readlines()\n",
    "            \n",
    "        content = [float(x.strip()) for x in content] \n",
    "        \n",
    "        inputList[i] = np.asarray(content).reshape(40,2)\n",
    "        \n",
    "    inputList = inputList.reshape(14,8, 40, 2)\n",
    "        \n",
    "    return inputList\n",
    "    \n",
    "def show(img):\n",
    "\n",
    "    plt.imshow(img)\n",
    "    plt.show()\n",
    "    \n",
    "######### Visualization #########\n",
    "    \n",
    "def show_tooth_points(landmark, show=True):\n",
    "    \n",
    "    plt.plot(landmark[:,0], landmark[:,1], 'ro')\n",
    "    \n",
    "    if show:\n",
    "        plt.show()\n",
    "        \n",
    "def show_teeth_points(landmarks):\n",
    "    \n",
    "    plt.figure()\n",
    "    n = len(landmarks)\n",
    "    hn = int(n/2)\n",
    "   \n",
    "    print('Showing Teeth Landmarks')\n",
    "\n",
    "    for i, landmark in enumerate(landmarks):\n",
    "        plt.subplot(2, hn, i+1)\n",
    "        plt.xticks(())\n",
    "        plt.yticks(())   \n",
    "        plt.plot(landmark[:,0], landmark[:,1], 'ro')\n",
    "     \n",
    "    plt.show()"
   ]
  },
  {
   "cell_type": "code",
   "execution_count": 4,
   "metadata": {},
   "outputs": [
    {
     "name": "stdout",
     "output_type": "stream",
     "text": [
      "Showing Teeth Landmarks\n"
     ]
    },
    {
     "data": {
      "image/png": "[encoded data removed]",
      "text/plain": [
       "<matplotlib.figure.Figure at 0x265d62a0f60>"
      ]
     },
     "metadata": {},
     "output_type": "display_data"
    }
   ],
   "source": [
    "if __name__ == \"__main__\":\n",
    "    #main\n",
    "\n",
    "    dir_radiographs = \"_Data\\Radiographs\\*.tif\"\n",
    "    radiographs = load_files(dir_radiographs)\n",
    "\n",
    "    dir_segmentations = \"_Data\\Segmentations\\*.png\"\n",
    "    segmentations = load_files(dir_segmentations)\n",
    "\n",
    "    all_landmarks = load_landmarks()\n",
    "    show_teeth_points(all_landmarks[0])"
   ]
  },
  {
   "cell_type": "code",
   "execution_count": null,
   "metadata": {},
   "outputs": [],
   "source": []
  }
 ],
 "metadata": {
  "kernelspec": {
   "display_name": "Python 3",
   "language": "python",
   "name": "python3"
  },
  "language_info": {
   "codemirror_mode": {
    "name": "ipython",
    "version": 3
   },
   "file_extension": ".py",
   "mimetype": "text/x-python",
   "name": "python",
   "nbconvert_exporter": "python",
   "pygments_lexer": "ipython3",
   "version": "3.6.3"
  }
 },
 "nbformat": 4,
 "nbformat_minor": 2
}

{
 "cells": [
  {
   "cell_type": "code",
   "execution_count": 5,
   "metadata": {},
   "outputs": [],
   "source": [
    "import matplotlib.pyplot as plt\n",
    "import numpy as np\n",
    "from sklearn.decomposition import PCA\n",
    "import FileManager\n",
    "\n",
    "\n",
    "def PCA_analysis(data, number_of_components):\n",
    "    \n",
    "    data = data.reshape(-1,80)\n",
    "    pca = PCA(n_components= number_of_components)\n",
    "    pca.fit(data)\n",
    "    \n",
    "    return pca\n",
    "\n",
    "def PCA_reconstruction(pca, data):\n",
    "    \n",
    "    projections = pca.transform(data)\n",
    "    reconstructions = pca.inverse_transform(projections)\n",
    "    return reconstructions\n",
    "\n",
    "def get_eigenvalues(pca):\n",
    "    \n",
    "    return pca.explained_variance_\n",
    "\n",
    "def get_eigenvectors(pca):\n",
    "    return pca.components_\n",
    "\n",
    "def get_mean(pca):\n",
    "    return pca.mean_\n",
    "\n",
    "\n",
    "######### Visualization #########\n",
    "\n",
    "\n",
    "def show_PCA(pca):\n",
    "    \n",
    "    for i in range(len(pca.components_)):\n",
    "        eig = pca.components_[i].reshape(40,2)\n",
    "        plt.imshow(eig)\n",
    "        plt.show()\n",
    "        \n",
    "        \n",
    "def show_PCAs(pca):\n",
    "    \n",
    "    plt.figure()\n",
    "    n = len(pca.components_)\n",
    "    hn = int(n/2)\n",
    "   \n",
    "    print('Showing PCA\\'s')\n",
    "\n",
    "    for i, vector in enumerate(pca.components_):\n",
    "        vector= vector.reshape(40,2)\n",
    "        plt.subplot(2, hn, i+1)\n",
    "        plt.xticks(())\n",
    "        plt.yticks(())   \n",
    "        FileManager.show_tooth_points(vector, False)\n",
    "     \n",
    "    plt.show()\n"
   ]
  },
  {
   "cell_type": "code",
   "execution_count": 6,
   "metadata": {},
   "outputs": [
    {
     "name": "stdout",
     "output_type": "stream",
     "text": [
      "Showing PCA's\n"
     ]
    },
    {
     "data": {
      "image/png": "[encoded data removed]",
      "text/plain": [
       "<matplotlib.figure.Figure at 0x1a39a2a1d30>"
      ]
     },
     "metadata": {},
     "output_type": "display_data"
    }
   ],
   "source": [
    "if __name__ == \"__main__\":\n",
    "    #main\n",
    "    all_landmarks_std = FileManager.load_landmarks_std()\n",
    "\n",
    "    pca = PCA_analysis(all_landmarks_std[:,0], None)\n",
    "    show_PCAs(pca)"
   ]
  },
  {
   "cell_type": "code",
   "execution_count": null,
   "metadata": {},
   "outputs": [],
   "source": []
  }
 ],
 "metadata": {
  "kernelspec": {
   "display_name": "Python 3",
   "language": "python",
   "name": "python3"
  },
  "language_info": {
   "codemirror_mode": {
    "name": "ipython",
    "version": 3
   },
   "file_extension": ".py",
   "mimetype": "text/x-python",
   "name": "python",
   "nbconvert_exporter": "python",
   "pygments_lexer": "ipython3",
   "version": "3.6.3"
  }
 },
 "nbformat": 4,
 "nbformat_minor": 2
}

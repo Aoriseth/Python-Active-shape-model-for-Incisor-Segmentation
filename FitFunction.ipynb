{
 "cells": [
  {
   "cell_type": "code",
   "execution_count": 1,
   "metadata": {},
   "outputs": [],
   "source": [
    "import Image_preperation as prep\n",
    "import numpy as np\n",
    "import matplotlib.pyplot as plt\n",
    "import math\n",
    "import FileManager as fm\n",
    "\n",
    "def fit_measure(points, length, edge_img):\n",
    "    \n",
    "    size = len(points)\n",
    "    new_points = np.empty((size,2))\n",
    "    total_error = 0\n",
    "    \n",
    "    for i in range(size):\n",
    "        print(i)\n",
    "        if(i==size-1):\n",
    "            p1, p2, p3 = points[i-1], points[i], points[0] \n",
    "        else:\n",
    "            p1, p2, p3 = points[i-1], points[i], points[i+1]\n",
    "\n",
    "        p2_new = strongest_edge_point_on_normal(p1, p2, p3 ,length, edge_img)\n",
    "        #print(p2_new)\n",
    "        #total_error += error_measure(p2, p2_new)\n",
    "        new_points[i] = p2_new\n",
    "        \n",
    "    return new_points, total_error;   \n",
    "        \n",
    "def error_measure(p1, p2):\n",
    "    \n",
    "    x1, y1 = p1\n",
    "    x2, y2 = p2\n",
    "    #dist = sqrt( (x2 - x1)**2 + (y2 - y1)**2 )\n",
    "    return math.hypot(x2 - x1, y2 - y1)\n",
    "    \n",
    "         \n",
    "def strongest_edge_point_on_normal(a,b,c,length, edge_img):\n",
    "    \n",
    "    rad = get_normal_angle(a,b,c)\n",
    "    points = get_points_on_angle(b, rad, length)\n",
    "    edge_strength = edge_strength_at_points(points, edge_img)\n",
    "    id_edge_point = np.argmax(edge_strength)\n",
    "    edge_point = points[id_edge_point]\n",
    "\n",
    "    return edge_point\n",
    "\n",
    "def edge_strength_on_normal(a,b,c,length, edge_img):\n",
    "    \n",
    "    rad = get_normal_angle(a,b,c)\n",
    "    points = get_points_on_angle(b, rad, length)\n",
    "    return edge_strength_at_points(points, edge_img)\n",
    "\n",
    "def is_horizontal(a,b,c):\n",
    "    if(a[1] == b[1] and b[1] == c[1]):\n",
    "        return True\n",
    "    return False\n",
    "    \n",
    "def is_vertical(a,b,c):\n",
    "    if(a[0] == b[0] and b[0] == c[0]):\n",
    "        return True\n",
    "    return False\n",
    "\n",
    "def is_linear(b_proj , b):\n",
    "    return np.array_equal(b_proj, b)\n",
    "\n",
    "def get_normal_angle(a,b,c):\n",
    "    if( is_horizontal(a,b,c) ):\n",
    "        return math.pi/2\n",
    "    if( is_vertical(a,b,c) ):\n",
    "        return 0\n",
    "    \n",
    "    b_proj = project_on(b, a,c)\n",
    "    \n",
    "    if(is_linear(b_proj , b)):\n",
    "        c_norm = np.add(c,[2,0])\n",
    "        return calc_angle(a,b,c_norm)\n",
    "    \n",
    "    b_norm = np.add(b, [2,0])\n",
    "    \n",
    "    return calc_angle(b_proj, b, b_norm)\n",
    "\n",
    "def project_on(x, a,c):\n",
    "    n = np.subtract(a, c)\n",
    "    n = np.divide(n, np.linalg.norm(n, 2))\n",
    "\n",
    "    return c + n*np.dot(np.subtract(x , c), n)\n",
    "\n",
    "def calc_angle(a,b,c):\n",
    "    \n",
    "    ba = np.subtract(a, b)\n",
    "    bc = np.subtract(c , b)\n",
    "\n",
    "    cosine_angle = np.dot(ba, bc) / (np.linalg.norm(ba) * np.linalg.norm(bc))\n",
    "    angle = np.arccos(cosine_angle)\n",
    "    if(np.isnan(angle)):\n",
    "        print(a)\n",
    "        print(b)\n",
    "        print(c)\n",
    "    return angle\n",
    "\n",
    "\n",
    "def get_y_point(x,rad):\n",
    "    return int(np.around(math.tan(rad) * x))\n",
    "\n",
    "def get_points_on_angle(point, rad, length):\n",
    "    \n",
    "    if  rad > math.pi/4:\n",
    "        switched = True\n",
    "        new_rad = math.pi/4 - ( rad - math.pi/4 )\n",
    "    else:\n",
    "        switched = False\n",
    "        new_rad = rad\n",
    "    \n",
    "    points = np.empty((2*length+1, 2))\n",
    "    for i, x in enumerate(range(-length, length+1)):\n",
    "        \n",
    "        y = get_y_point(x, new_rad)\n",
    "\n",
    "        if switched:\n",
    "            sub_point = [y,x] \n",
    "        else:\n",
    "            sub_point = [x,y]\n",
    "            \n",
    "        points[i] = np.subtract(point, sub_point)\n",
    "        \n",
    "    return points\n",
    "\n",
    "def edge_strength_at_points(points ,edge_img):\n",
    "    \n",
    "    gradient = np.empty(len(points))\n",
    "    for i, p in enumerate(points):\n",
    "        gradient[i] = edge_img[int(p[0]),int(p[1])]\n",
    "        \n",
    "    return gradient\n",
    "\n",
    "def normalize(x):\n",
    "    return x / np.linalg.norm(x)\n",
    "\n",
    "\n",
    "def load_tooth(i):\n",
    "    init = np.load(\"initial_position.npy\")\n",
    "    return init[0,i,:,:]/0.3\n",
    "\n",
    "def load_tooth_of_piece():\n",
    "    tooth = load_tooth(4)\n",
    "    tooth_of_piece = tooth\n",
    "    tooth_of_piece[:,0]=tooth[:,0]-1200\n",
    "    tooth_of_piece[:,1]=tooth[:,1]-700\n",
    "    return tooth_of_piece\n",
    "\n",
    "def load_img_piece():\n",
    "    img = load_image()\n",
    "    return img[700:1300,1200:1800]\n",
    "\n",
    "def show_with_points(img, points):\n",
    "    fig, ax = plt.subplots(figsize=(7, 7))\n",
    "    plt.imshow(img)\n",
    "    plt.plot(points[:,0], points[:,1], 'ro', markersize=2)\n",
    "    plt.show()"
   ]
  },
  {
   "cell_type": "code",
   "execution_count": 2,
   "metadata": {},
   "outputs": [
    {
     "data": {
      "text/plain": [
       "14"
      ]
     },
     "execution_count": 2,
     "metadata": {},
     "output_type": "execute_result"
    }
   ],
   "source": [
    "r = fm.load_radiographs()\n",
    "len(r)"
   ]
  },
  {
   "cell_type": "code",
   "execution_count": null,
   "metadata": {},
   "outputs": [],
   "source": [
    "if __name__ == \"__main__\":\n",
    "\n",
    "    piece = fm.load_img_piece()\n",
    "\n",
    "    tooth = fm.load_tooth_of_piece()\n",
    "    points = tooth[10:13]\n",
    "\n",
    "    fm.show_with_points(piece, points)\n",
    "\n",
    "    piece = prep.median_filter(piece)\n",
    "    edge_img = prep.edge_detection_low(piece)\n",
    "    show_with_points(edge_img, points)\n",
    "    a,b,c = points\n",
    "    edges = edge_strength_on_normal(a,b,c,20, edge_img)\n",
    "\n",
    "    y = np.arange(-20,21)\n",
    "    plt.plot(y, normalize(edges))\n",
    "    plt.show()"
   ]
  },
  {
   "cell_type": "code",
   "execution_count": null,
   "metadata": {},
   "outputs": [],
   "source": [
    "fm.show_with_points(piece, tooth)"
   ]
  },
  {
   "cell_type": "code",
   "execution_count": null,
   "metadata": {},
   "outputs": [],
   "source": [
    "#show_with_points(edge_img, tooth[20:23])\n",
    "get_normal_angle(tooth[20],tooth[21],tooth[22])"
   ]
  },
  {
   "cell_type": "code",
   "execution_count": null,
   "metadata": {},
   "outputs": [],
   "source": [
    "new_points, error = fit_measure(tooth, 20, edge_img)"
   ]
  },
  {
   "cell_type": "code",
   "execution_count": null,
   "metadata": {},
   "outputs": [],
   "source": [
    "fm.show_with_points(piece, new_points)"
   ]
  },
  {
   "cell_type": "code",
   "execution_count": null,
   "metadata": {},
   "outputs": [],
   "source": [
    "a = np.array([[0,0],[0,1],[0,2]])\n",
    "get_normal_angle(a[0],a[1],a[2])"
   ]
  },
  {
   "cell_type": "code",
   "execution_count": null,
   "metadata": {},
   "outputs": [],
   "source": [
    "calc_angle([1. ,0.], [1,0], [3, 0])"
   ]
  },
  {
   "cell_type": "code",
   "execution_count": null,
   "metadata": {},
   "outputs": [],
   "source": []
  },
  {
   "cell_type": "code",
   "execution_count": null,
   "metadata": {},
   "outputs": [],
   "source": []
  }
 ],
 "metadata": {
  "kernelspec": {
   "display_name": "Python 3",
   "language": "python",
   "name": "python3"
  },
  "language_info": {
   "codemirror_mode": {
    "name": "ipython",
    "version": 3
   },
   "file_extension": ".py",
   "mimetype": "text/x-python",
   "name": "python",
   "nbconvert_exporter": "python",
   "pygments_lexer": "ipython3",
   "version": "3.6.3"
  }
 },
 "nbformat": 4,
 "nbformat_minor": 2
}
